{
 "cells": [
  {
   "cell_type": "code",
   "execution_count": 1,
   "metadata": {},
   "outputs": [],
   "source": [
    "import requests\n",
    "from bs4 import BeautifulSoup\n",
    "import numpy as np\n",
    "import pandas as pd"
   ]
  },
  {
   "cell_type": "code",
   "execution_count": 2,
   "metadata": {},
   "outputs": [],
   "source": [
    "url = \"https://www.bbc.com/news/science-environment-56837908\""
   ]
  },
  {
   "cell_type": "code",
   "execution_count": 3,
   "metadata": {},
   "outputs": [],
   "source": [
    "page=requests.get(url)\n",
    "soup=BeautifulSoup(page.content,'html5lib')"
   ]
  },
  {
   "cell_type": "code",
   "execution_count": 4,
   "metadata": {},
   "outputs": [],
   "source": [
    "coverpage = soup.findAll('a', {'class':'gs-c-promo-heading'})"
   ]
  },
  {
   "cell_type": "code",
   "execution_count": 5,
   "metadata": {},
   "outputs": [
    {
     "data": {
      "text/plain": [
       "<a class=\"gs-c-promo-heading gs-o-faux-block-link__overlay-link gel-paragon-bold gs-u-mt+ nw-o-link-split__anchor\" href=\"/news/uk-58948339\"><h3 class=\"gs-c-promo-heading__title gel-paragon-bold gs-u-mt+ nw-o-link-split__text\">Costa Rica wins £1m from William's Earthshot prize</h3></a>"
      ]
     },
     "execution_count": 5,
     "metadata": {},
     "output_type": "execute_result"
    }
   ],
   "source": [
    "coverpage[0]"
   ]
  },
  {
   "cell_type": "code",
   "execution_count": 6,
   "metadata": {},
   "outputs": [],
   "source": [
    "article_links=[]\n",
    "for i in coverpage:\n",
    "    link=i.get('href')\n",
    "    if link[0]=='/':\n",
    "        link='https://www.bbc.com'+link\n",
    "    article_links.append(link)"
   ]
  },
  {
   "cell_type": "code",
   "execution_count": 7,
   "metadata": {},
   "outputs": [
    {
     "data": {
      "text/plain": [
       "'https://www.bbc.com/news/uk-58948339'"
      ]
     },
     "execution_count": 7,
     "metadata": {},
     "output_type": "execute_result"
    }
   ],
   "source": [
    "article_links[0]"
   ]
  },
  {
   "cell_type": "code",
   "execution_count": 8,
   "metadata": {},
   "outputs": [
    {
     "name": "stdout",
     "output_type": "stream",
     "text": [
      "Earthshot Prize: Costa Rica wins £1m from William's Earthshot prize\n",
      "Scottish climate expert Jim Skea warns 'clock is ticking'\n",
      "Scott Morrison: Australia PM to attend COP26 summit after global pressure\n",
      "Queen 'irritated' by climate change inaction in COP26 build-up\n",
      "Why giant turbines are pushing the limits of possibility\n"
     ]
    }
   ],
   "source": [
    "headings=[]\n",
    "articles=[]\n",
    "for link in article_links[1:6]:\n",
    "    article=requests.get(link)\n",
    "    soup1=BeautifulSoup(article.content,'html5lib')\n",
    "    heading=soup1.find('h1')\n",
    "    headings.append(heading.text)\n",
    "    articleText=soup1.find('article')\n",
    "    ptag=articleText.findAll('p',{'class':'ssrcss-1q0x1qg-Paragraph'})\n",
    "    fin=''\n",
    "    for i in ptag:\n",
    "        fin+=i.text\n",
    "    articles.append(fin)"
   ]
  },
  {
   "cell_type": "code",
   "execution_count": null,
   "metadata": {},
   "outputs": [],
   "source": []
  }
 ],
 "metadata": {
  "kernelspec": {
   "display_name": "Python 3",
   "language": "python",
   "name": "python3"
  },
  "language_info": {
   "codemirror_mode": {
    "name": "ipython",
    "version": 3
   },
   "file_extension": ".py",
   "mimetype": "text/x-python",
   "name": "python",
   "nbconvert_exporter": "python",
   "pygments_lexer": "ipython3",
   "version": "3.7.7"
  }
 },
 "nbformat": 4,
 "nbformat_minor": 4
}
