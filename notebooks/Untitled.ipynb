{
 "cells": [
  {
   "cell_type": "code",
   "execution_count": 1,
   "metadata": {},
   "outputs": [],
   "source": [
    "import requests\n",
    "from bs4 import BeautifulSoup\n",
    "import numpy as np\n",
    "import pandas as pd"
   ]
  },
  {
   "cell_type": "code",
   "execution_count": 2,
   "metadata": {},
   "outputs": [],
   "source": [
    "url = \"https://www.bbc.com/news/science-environment-56837908\""
   ]
  },
  {
   "cell_type": "code",
   "execution_count": 3,
   "metadata": {},
   "outputs": [],
   "source": [
    "page=requests.get(url)\n",
    "soup=BeautifulSoup(page.content,'html5lib')"
   ]
  },
  {
   "cell_type": "code",
   "execution_count": 4,
   "metadata": {},
   "outputs": [],
   "source": [
    "coverpage = soup.findAll('a', {'class':'gs-c-promo-heading'})"
   ]
  },
  {
   "cell_type": "code",
   "execution_count": 5,
   "metadata": {},
   "outputs": [
    {
     "data": {
      "text/plain": [
       "<a class=\"gs-c-promo-heading gs-o-faux-block-link__overlay-link gel-paragon-bold gs-u-mt+ nw-o-link-split__anchor\" href=\"/news/uk-58948339\"><h3 class=\"gs-c-promo-heading__title gel-paragon-bold gs-u-mt+ nw-o-link-split__text\">Costa Rica wins £1m from William's Earthshot prize</h3></a>"
      ]
     },
     "execution_count": 5,
     "metadata": {},
     "output_type": "execute_result"
    }
   ],
   "source": [
    "coverpage[0]"
   ]
  },
  {
   "cell_type": "code",
   "execution_count": 10,
   "metadata": {},
   "outputs": [],
   "source": [
    "article_links=[]\n",
    "for i in coverpage:\n",
    "    link=i.get('href')\n",
    "    if link[0]=='/':\n",
    "        link='https://www.bbc.com'+link\n",
    "    article_links.append(link)"
   ]
  },
  {
   "cell_type": "code",
   "execution_count": 11,
   "metadata": {},
   "outputs": [
    {
     "data": {
      "text/plain": [
       "'https://www.bbc.com/news/uk-58948339'"
      ]
     },
     "execution_count": 11,
     "metadata": {},
     "output_type": "execute_result"
    }
   ],
   "source": [
    "article_links[0]"
   ]
  },
  {
   "cell_type": "code",
   "execution_count": 30,
   "metadata": {},
   "outputs": [],
   "source": [
    "headings=[]\n",
    "articles=[]\n",
    "for link in article_links[1:6]:\n",
    "    article=requests.get(link)\n",
    "    soup1=BeautifulSoup(article.content,'html5lib')\n",
    "    heading=soup1.find('h1')\n",
    "    headings.append(heading.text)\n",
    "    articleText=soup1.findAll('p',{'class':'ssrcss-1q0x1qg-Paragraph'})\n",
    "    fin=''\n",
    "    for i in articleText:\n",
    "        fin+=i.text\n",
    "    articles.append(fin)"
   ]
  },
  {
   "cell_type": "code",
   "execution_count": 31,
   "metadata": {},
   "outputs": [
    {
     "data": {
      "text/plain": [
       "'Scottish climate change expert Jim Skea has called on world leaders to \"step up to the plate\" at the COP26 summit in Glasgow at the end of the month.Prof Skea, a member of the United Nations climate body the IPCC, said the scientists had spoken clearly and time was running out for governments to act.He said \"the clock is ticking\" and carbon emissions needed to come down.The climate expert said the Glasgow summit was the time for politicians to deliver on their promises.Prof Skea, who was born in Dundee and went to Edinburgh University, is a member of the bureau of the Intergovernmental Panel on Climate Change (IPCC) and the UK government\\'s Committee on Climate Change.He was also chair of the Scottish government\\'s Just Transition Commission, which looked at how to fairly manage the move to greener ways of living.  Prof Skea told BBC Scotland\\'s Glenn Campbell, on the podcast No Hot Air, that the current pledges to cut greenhouse gas emissions were not compatible with the goals of keeping global heating to \"well below 2C\", never mind the more ambitious target of 1.5C.Those aims were agreed at the landmark COP summit in Paris in 2015.To keep close to that mark, emissions of warming gases need to drop by half by 2030, and essentially hit zero in 2050.Prof Skea said Glasgow was the most important summit since Paris.\"It is the start of a stock-taking process,\" he said. \"Have we delivered on the Paris ambitions or not?\"There is no expectation that another agreement is going to emerge in Glasgow, it is much more about implementing and putting in place what the Paris agreement actually said.\"\"It is getting countries to deliver on the promises.\"He said Paris was about getting countries to make pledges but they needed to improve to align with the overall global agreement.\"If we continue emitting as we are at the moment, the Paris goals will go beyond reach, that\\'s undoubted,\" Prof Skea said.He told the podcast reducing emissions meant burning fewer fossil fuels and being more energy efficient.Campaigners such as Greenpeace have recently challenged the UK government to put a halt to new oil field developments, with the Cambo field west of Shetland sparking most debate. The UK government wants to reduce the use of fossil fuels, but says there is still \"ongoing demand\" for oil and gas.It says we need to transition \"as fast as we reasonably can\" to renewable energy sources.Prof Skea said he had to be careful as an IPCC official not to comment on the policies of individual governments.However, he pointed to the International Energy Agency which has produced a set of scenarios of actions required to keep global warming to the 1.5C target.\"In that scenario there is no further development of oil fields globally at all,\" he said.\"If you were to pursue the much more flexible \\'well below 2C\\' formula there probably would be space for new oil fields but nevertheless a lot of the oil fields that have been proved up would still need to stay in the ground globally,\" he said.This raises the tricky issue of who gets to extract their oil and who does not?  Another controversial energy source is nuclear.It is low on carbon emissions but produces radioactive waste and the risk of leaks of radiation.Prof Skea said different countries took very different views on nuclear power, with much of Europe rejecting it but China investing heavily.\"Certainly in those countries that choose nuclear, if it replaces coal it will help with climate change,\" he said. Listen to more on the BBC Scotland podcast No Hot Air. Glenn Campbell guides you through everything you need to know about the COP26 climate conference in Glasgow.BBC correspondent Yogita Limaye in Kabul asks the Taliban when girls can go back to school.Have you been getting these songs wrong?What happens to your body in extreme heat?© 2021 BBC. The BBC is not responsible for the content of external sites. Read about our approach to external linking.'"
      ]
     },
     "execution_count": 31,
     "metadata": {},
     "output_type": "execute_result"
    }
   ],
   "source": [
    "articles[1]"
   ]
  },
  {
   "cell_type": "code",
   "execution_count": null,
   "metadata": {},
   "outputs": [],
   "source": []
  }
 ],
 "metadata": {
  "kernelspec": {
   "display_name": "Python 3",
   "language": "python",
   "name": "python3"
  },
  "language_info": {
   "codemirror_mode": {
    "name": "ipython",
    "version": 3
   },
   "file_extension": ".py",
   "mimetype": "text/x-python",
   "name": "python",
   "nbconvert_exporter": "python",
   "pygments_lexer": "ipython3",
   "version": "3.7.7"
  }
 },
 "nbformat": 4,
 "nbformat_minor": 4
}
